{
 "cells": [
  {
   "cell_type": "code",
   "execution_count": null,
   "metadata": {},
   "outputs": [],
   "source": []
  },
  {
   "cell_type": "markdown",
   "metadata": {},
   "source": [
    "$$ \\sigma_f^2 =  \\left ( \\frac{\\partial f}{\\partial a} \\sigma_a \\right)^2 + \\left ( \\frac{\\partial f}{\\partial b} \\sigma_b \\right)^2 + \\left ( \\frac{\\partial f}{\\partial c} \\sigma_c \\right)^2 $$"
   ]
  },
  {
   "cell_type": "markdown",
   "metadata": {},
   "source": []
  }
 ],
 "metadata": {
  "language_info": {
   "name": "python"
  }
 },
 "nbformat": 4,
 "nbformat_minor": 2
}
